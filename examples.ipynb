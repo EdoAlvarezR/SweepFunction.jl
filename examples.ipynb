{
 "cells": [
  {
   "cell_type": "markdown",
   "metadata": {},
   "source": [
    "# SweepFunction Examples"
   ]
  },
  {
   "cell_type": "code",
   "execution_count": 1,
   "metadata": {
    "collapsed": true
   },
   "outputs": [],
   "source": [
    "using SweepFunction"
   ]
  },
  {
   "cell_type": "code",
   "execution_count": 2,
   "metadata": {},
   "outputs": [
    {
     "name": "stdout",
     "output_type": "stream",
     "text": [
      "search: \u001b[1mS\u001b[22m\u001b[1mw\u001b[22m\u001b[1me\u001b[22m\u001b[1me\u001b[22m\u001b[1mp\u001b[22m\u001b[1mF\u001b[22m\u001b[1mu\u001b[22m\u001b[1mn\u001b[22m\u001b[1mc\u001b[22m\u001b[1mt\u001b[22m\u001b[1mi\u001b[22m\u001b[1mo\u001b[22m\u001b[1mn\u001b[22m\n",
      "\n"
     ]
    },
    {
     "data": {
      "text/markdown": [
       "Automatic sweeping of function evaluations over a sample space.\n",
       "\n",
       "# AUTHORSHIP\n",
       "\n",
       "```\n",
       "* Author    : Eduardo J. Alvarez\n",
       "* Email     : Edo.AlvarezR@gmail.com\n",
       "* Created   : Nov 2018\n",
       "* License   : MIT\n",
       "```\n"
      ],
      "text/plain": [
       "Automatic sweeping of function evaluations over a sample space.\n",
       "\n",
       "# AUTHORSHIP\n",
       "\n",
       "```\n",
       "* Author    : Eduardo J. Alvarez\n",
       "* Email     : Edo.AlvarezR@gmail.com\n",
       "* Created   : Nov 2018\n",
       "* License   : MIT\n",
       "```\n"
      ]
     },
     "execution_count": 2,
     "metadata": {},
     "output_type": "execute_result"
    }
   ],
   "source": [
    "? SweepFunction"
   ]
  },
  {
   "cell_type": "markdown",
   "metadata": {},
   "source": [
    "## Basic Setup"
   ]
  },
  {
   "cell_type": "code",
   "execution_count": 3,
   "metadata": {},
   "outputs": [
    {
     "name": "stdout",
     "output_type": "stream",
     "text": [
      "search: \u001b[1mA\u001b[22m\u001b[1mr\u001b[22m\u001b[1mg\u001b[22m\u001b[1mS\u001b[22m\u001b[1mw\u001b[22m\u001b[1me\u001b[22m\u001b[1me\u001b[22m\u001b[1mp\u001b[22m\n",
      "\n"
     ]
    },
    {
     "data": {
      "text/markdown": [
       "`ArgSweep{T}(arg::Symbol, vals::Array{T, 1})`\n",
       "\n",
       "Defines an argument `arg` to sweep and the set of values `vals` that the argument will take.\n",
       "\n",
       "NOTE: This is only for optional (keyword) arguments.\n"
      ],
      "text/plain": [
       "`ArgSweep{T}(arg::Symbol, vals::Array{T, 1})`\n",
       "\n",
       "Defines an argument `arg` to sweep and the set of values `vals` that the argument will take.\n",
       "\n",
       "NOTE: This is only for optional (keyword) arguments.\n"
      ]
     },
     "execution_count": 3,
     "metadata": {},
     "output_type": "execute_result"
    }
   ],
   "source": [
    "? ArgSweep"
   ]
  },
  {
   "cell_type": "code",
   "execution_count": 4,
   "metadata": {},
   "outputs": [
    {
     "name": "stdout",
     "output_type": "stream",
     "text": [
      "search: \u001b[1mS\u001b[22m\u001b[1mw\u001b[22m\u001b[1me\u001b[22m\u001b[1me\u001b[22m\u001b[1mp\u001b[22m \u001b[1mS\u001b[22m\u001b[1mw\u001b[22m\u001b[1me\u001b[22m\u001b[1me\u001b[22m\u001b[1mp\u001b[22mFunction Arg\u001b[1mS\u001b[22m\u001b[1mw\u001b[22m\u001b[1me\u001b[22m\u001b[1me\u001b[22m\u001b[1mp\u001b[22m run\u001b[1ms\u001b[22m\u001b[1mw\u001b[22m\u001b[1me\u001b[22m\u001b[1me\u001b[22m\u001b[1mp\u001b[22m print\u001b[1ms\u001b[22m\u001b[1mw\u001b[22m\u001b[1me\u001b[22m\u001b[1me\u001b[22m\u001b[1mp\u001b[22m\n",
      "\n"
     ]
    },
    {
     "data": {
      "text/markdown": [
       "`Sweep(fun::Function, argsweep::Array{ArgSweep, 1}, cons_args::Array{Any, 1}, cons_optargs::Array{Tuple{Symbol, Any}, 1})`\n",
       "\n",
       "Defines a sweep of function `fun` over multiple arguments `argsweep` with constant required and optional arguments `cons_args` and `cons_optargs` (if none, `cons_args` and `cons_optargs` can be omitted)\n"
      ],
      "text/plain": [
       "`Sweep(fun::Function, argsweep::Array{ArgSweep, 1}, cons_args::Array{Any, 1}, cons_optargs::Array{Tuple{Symbol, Any}, 1})`\n",
       "\n",
       "Defines a sweep of function `fun` over multiple arguments `argsweep` with constant required and optional arguments `cons_args` and `cons_optargs` (if none, `cons_args` and `cons_optargs` can be omitted)\n"
      ]
     },
     "execution_count": 4,
     "metadata": {},
     "output_type": "execute_result"
    }
   ],
   "source": [
    "? Sweep"
   ]
  },
  {
   "cell_type": "code",
   "execution_count": 3,
   "metadata": {
    "collapsed": true
   },
   "outputs": [],
   "source": [
    "# Function to be swept\n",
    "function fun(; arg1=1.0, arg2=1.0, arg3=1.0)\n",
    "    return arg1*arg2*arg3\n",
    "end\n",
    "\n",
    "# Arguments to sweep (Symbol, values): Sweeps only two arguments\n",
    "arg_sweep1 = ArgSweep{Int64}(:arg1, [1, 2, 3])\n",
    "arg_sweep2 = ArgSweep{Float64}(:arg2, [4.0, 5.0])\n",
    "\n",
    "arg_sweeps = [arg_sweep1, arg_sweep2]\n",
    "\n",
    "# Defines the sweep\n",
    "sweep = Sweep(fun, arg_sweeps);"
   ]
  },
  {
   "cell_type": "code",
   "execution_count": 5,
   "metadata": {},
   "outputs": [
    {
     "name": "stdout",
     "output_type": "stream",
     "text": [
      "search: \u001b[1mg\u001b[22m\u001b[1me\u001b[22m\u001b[1mt\u001b[22m\u001b[1m_\u001b[22m\u001b[1mn\u001b[22m\u001b[1me\u001b[22m\u001b[1mv\u001b[22m\u001b[1ma\u001b[22m\u001b[1ml\u001b[22m\u001b[1ms\u001b[22m\n",
      "\n"
     ]
    },
    {
     "data": {
      "text/markdown": [
       "`get_nevals(self::Sweep)`\n",
       "\n",
       "Returns the number of function evaluations this sweep will take.\n"
      ],
      "text/plain": [
       "`get_nevals(self::Sweep)`\n",
       "\n",
       "Returns the number of function evaluations this sweep will take.\n"
      ]
     },
     "execution_count": 5,
     "metadata": {},
     "output_type": "execute_result"
    }
   ],
   "source": [
    "? get_nevals"
   ]
  },
  {
   "cell_type": "code",
   "execution_count": 4,
   "metadata": {},
   "outputs": [
    {
     "data": {
      "text/plain": [
       "6"
      ]
     },
     "execution_count": 4,
     "metadata": {},
     "output_type": "execute_result"
    }
   ],
   "source": [
    "get_nevals(sweep)"
   ]
  },
  {
   "cell_type": "code",
   "execution_count": 6,
   "metadata": {},
   "outputs": [
    {
     "name": "stdout",
     "output_type": "stream",
     "text": [
      "search: \u001b[1mr\u001b[22m\u001b[1mu\u001b[22m\u001b[1mn\u001b[22m\u001b[1ms\u001b[22m\u001b[1mw\u001b[22m\u001b[1me\u001b[22m\u001b[1me\u001b[22m\u001b[1mp\u001b[22m\n",
      "\n"
     ]
    },
    {
     "data": {
      "text/markdown": [
       "`runsweep(self::Sweep)`\n",
       "\n",
       "Runs the sweep evaluation of the function.\n",
       "\n",
       "```jldoctest\n",
       "julia> function fun(cons1, cons2; arg1=1.0, arg2=1.0, arg3=1.0)\n",
       "           return arg1*arg2*arg3 + cons1 + cons2\n",
       "       end;\n",
       "\n",
       "julia> arg_sweep1 = ArgSweep{Int64}(:arg1, [1, 2, 3]);\n",
       "\n",
       "julia> arg_sweep2 = ArgSweep{Float64}(:arg2, [4.0, 5.0]);\n",
       "\n",
       "julia> arg_sweeps = [arg_sweep1, arg_sweep2];\n",
       "\n",
       "julia> cons_args = [10, 20];\n",
       "\n",
       "julia> sweep = Sweep(fun, arg_sweeps, cons_args);\n",
       "\n",
       "julia> res = runsweep(sweep);\n",
       "\n",
       "julia> printsweep(res)\n",
       "\n",
       "\"f(10, 20; arg1=1, arg2=4.0) = 34.0\n",
       "\n",
       "f(10, 20; arg1=2, arg2=4.0) = 38.0\n",
       "\n",
       "f(10, 20; arg1=3, arg2=4.0) = 42.0\n",
       "\n",
       "f(10, 20; arg1=1, arg2=5.0) = 35.0\n",
       "\n",
       "f(10, 20; arg1=2, arg2=5.0) = 40.0\n",
       "\n",
       "f(10, 20; arg1=3, arg2=5.0) = 45.0\n",
       "\"\n",
       "```\n"
      ],
      "text/plain": [
       "`runsweep(self::Sweep)`\n",
       "\n",
       "Runs the sweep evaluation of the function.\n",
       "\n",
       "```jldoctest\n",
       "julia> function fun(cons1, cons2; arg1=1.0, arg2=1.0, arg3=1.0)\n",
       "           return arg1*arg2*arg3 + cons1 + cons2\n",
       "       end;\n",
       "\n",
       "julia> arg_sweep1 = ArgSweep{Int64}(:arg1, [1, 2, 3]);\n",
       "\n",
       "julia> arg_sweep2 = ArgSweep{Float64}(:arg2, [4.0, 5.0]);\n",
       "\n",
       "julia> arg_sweeps = [arg_sweep1, arg_sweep2];\n",
       "\n",
       "julia> cons_args = [10, 20];\n",
       "\n",
       "julia> sweep = Sweep(fun, arg_sweeps, cons_args);\n",
       "\n",
       "julia> res = runsweep(sweep);\n",
       "\n",
       "julia> printsweep(res)\n",
       "\n",
       "\"f(10, 20; arg1=1, arg2=4.0) = 34.0\n",
       "\n",
       "f(10, 20; arg1=2, arg2=4.0) = 38.0\n",
       "\n",
       "f(10, 20; arg1=3, arg2=4.0) = 42.0\n",
       "\n",
       "f(10, 20; arg1=1, arg2=5.0) = 35.0\n",
       "\n",
       "f(10, 20; arg1=2, arg2=5.0) = 40.0\n",
       "\n",
       "f(10, 20; arg1=3, arg2=5.0) = 45.0\n",
       "\"\n",
       "```\n"
      ]
     },
     "execution_count": 6,
     "metadata": {},
     "output_type": "execute_result"
    }
   ],
   "source": [
    "? runsweep"
   ]
  },
  {
   "cell_type": "code",
   "execution_count": 7,
   "metadata": {},
   "outputs": [
    {
     "data": {
      "text/plain": [
       "6-element Array{Any,1}:\n",
       " Dict{String,Any}(Pair{String,Any}(\"optional_arguments\", Tuple{Symbol,Any}[(:arg1, 1), (:arg2, 4.0)]),Pair{String,Any}(\"arguments\", Any[]),Pair{String,Any}(\"result\", 4.0)) \n",
       " Dict{String,Any}(Pair{String,Any}(\"optional_arguments\", Tuple{Symbol,Any}[(:arg1, 2), (:arg2, 4.0)]),Pair{String,Any}(\"arguments\", Any[]),Pair{String,Any}(\"result\", 8.0)) \n",
       " Dict{String,Any}(Pair{String,Any}(\"optional_arguments\", Tuple{Symbol,Any}[(:arg1, 3), (:arg2, 4.0)]),Pair{String,Any}(\"arguments\", Any[]),Pair{String,Any}(\"result\", 12.0))\n",
       " Dict{String,Any}(Pair{String,Any}(\"optional_arguments\", Tuple{Symbol,Any}[(:arg1, 1), (:arg2, 5.0)]),Pair{String,Any}(\"arguments\", Any[]),Pair{String,Any}(\"result\", 5.0)) \n",
       " Dict{String,Any}(Pair{String,Any}(\"optional_arguments\", Tuple{Symbol,Any}[(:arg1, 2), (:arg2, 5.0)]),Pair{String,Any}(\"arguments\", Any[]),Pair{String,Any}(\"result\", 10.0))\n",
       " Dict{String,Any}(Pair{String,Any}(\"optional_arguments\", Tuple{Symbol,Any}[(:arg1, 3), (:arg2, 5.0)]),Pair{String,Any}(\"arguments\", Any[]),Pair{String,Any}(\"result\", 15.0))"
      ]
     },
     "execution_count": 7,
     "metadata": {},
     "output_type": "execute_result"
    }
   ],
   "source": [
    "# Runs the sweep\n",
    "res = runsweep(sweep)"
   ]
  },
  {
   "cell_type": "code",
   "execution_count": 8,
   "metadata": {},
   "outputs": [
    {
     "name": "stdout",
     "output_type": "stream",
     "text": [
      "search: \u001b[1mp\u001b[22m\u001b[1mr\u001b[22m\u001b[1mi\u001b[22m\u001b[1mn\u001b[22m\u001b[1mt\u001b[22m\u001b[1ms\u001b[22m\u001b[1mw\u001b[22m\u001b[1me\u001b[22m\u001b[1me\u001b[22m\u001b[1mp\u001b[22m\n",
      "\n"
     ]
    },
    {
     "data": {
      "text/markdown": [
       "`printsweep(runsweep_output; verbose=true, lvl=0)`\n",
       "\n",
       "Given the output of `runsweep()`, it will format it and print it as a string.\n"
      ],
      "text/plain": [
       "`printsweep(runsweep_output; verbose=true, lvl=0)`\n",
       "\n",
       "Given the output of `runsweep()`, it will format it and print it as a string.\n"
      ]
     },
     "execution_count": 8,
     "metadata": {},
     "output_type": "execute_result"
    }
   ],
   "source": [
    "? printsweep"
   ]
  },
  {
   "cell_type": "code",
   "execution_count": 9,
   "metadata": {},
   "outputs": [
    {
     "name": "stdout",
     "output_type": "stream",
     "text": [
      "f(; arg1=1, arg2=4.0) = 4.0\n",
      "f(; arg1=2, arg2=4.0) = 8.0\n",
      "f(; arg1=3, arg2=4.0) = 12.0\n",
      "f(; arg1=1, arg2=5.0) = 5.0\n",
      "f(; arg1=2, arg2=5.0) = 10.0\n",
      "f(; arg1=3, arg2=5.0) = 15.0\n",
      "\n"
     ]
    }
   ],
   "source": [
    "printsweep(res);"
   ]
  },
  {
   "cell_type": "markdown",
   "metadata": {},
   "source": [
    "## Passing Constant Arguments"
   ]
  },
  {
   "cell_type": "code",
   "execution_count": 10,
   "metadata": {},
   "outputs": [
    {
     "data": {
      "text/plain": [
       "6-element Array{Any,1}:\n",
       " Dict{String,Any}(Pair{String,Any}(\"optional_arguments\", Tuple{Symbol,Any}[(:arg1, 1), (:arg2, 4.0)]),Pair{String,Any}(\"arguments\", Any[10, 20]),Pair{String,Any}(\"result\", 34.0))\n",
       " Dict{String,Any}(Pair{String,Any}(\"optional_arguments\", Tuple{Symbol,Any}[(:arg1, 2), (:arg2, 4.0)]),Pair{String,Any}(\"arguments\", Any[10, 20]),Pair{String,Any}(\"result\", 38.0))\n",
       " Dict{String,Any}(Pair{String,Any}(\"optional_arguments\", Tuple{Symbol,Any}[(:arg1, 3), (:arg2, 4.0)]),Pair{String,Any}(\"arguments\", Any[10, 20]),Pair{String,Any}(\"result\", 42.0))\n",
       " Dict{String,Any}(Pair{String,Any}(\"optional_arguments\", Tuple{Symbol,Any}[(:arg1, 1), (:arg2, 5.0)]),Pair{String,Any}(\"arguments\", Any[10, 20]),Pair{String,Any}(\"result\", 35.0))\n",
       " Dict{String,Any}(Pair{String,Any}(\"optional_arguments\", Tuple{Symbol,Any}[(:arg1, 2), (:arg2, 5.0)]),Pair{String,Any}(\"arguments\", Any[10, 20]),Pair{String,Any}(\"result\", 40.0))\n",
       " Dict{String,Any}(Pair{String,Any}(\"optional_arguments\", Tuple{Symbol,Any}[(:arg1, 3), (:arg2, 5.0)]),Pair{String,Any}(\"arguments\", Any[10, 20]),Pair{String,Any}(\"result\", 45.0))"
      ]
     },
     "execution_count": 10,
     "metadata": {},
     "output_type": "execute_result"
    }
   ],
   "source": [
    "# Function to be swept\n",
    "function fun(cons1, cons2; arg1=1.0, arg2=1.0, arg3=1.0)\n",
    "    return arg1*arg2*arg3 + cons1 + cons2\n",
    "end\n",
    "\n",
    "# Arguments to sweep (Symbol, values): Sweeps only two arguments\n",
    "arg_sweep1 = ArgSweep{Int64}(:arg1, [1, 2, 3])\n",
    "arg_sweep2 = ArgSweep{Float64}(:arg2, [4.0, 5.0])\n",
    "\n",
    "arg_sweeps = [arg_sweep1, arg_sweep2]\n",
    "\n",
    "# Constant required arguments [cons1, cons2]\n",
    "cons_args = [10, 20]\n",
    "\n",
    "# Defines the sweep\n",
    "sweep = Sweep(fun, arg_sweeps, cons_args)\n",
    "\n",
    "# Runs the sweep\n",
    "res = runsweep(sweep)"
   ]
  },
  {
   "cell_type": "code",
   "execution_count": 11,
   "metadata": {},
   "outputs": [
    {
     "name": "stdout",
     "output_type": "stream",
     "text": [
      "f(10, 20; arg1=1, arg2=4.0) = 34.0\n",
      "f(10, 20; arg1=2, arg2=4.0) = 38.0\n",
      "f(10, 20; arg1=3, arg2=4.0) = 42.0\n",
      "f(10, 20; arg1=1, arg2=5.0) = 35.0\n",
      "f(10, 20; arg1=2, arg2=5.0) = 40.0\n",
      "f(10, 20; arg1=3, arg2=5.0) = 45.0\n",
      "\n"
     ]
    }
   ],
   "source": [
    "printsweep(res);"
   ]
  },
  {
   "cell_type": "code",
   "execution_count": 12,
   "metadata": {},
   "outputs": [
    {
     "data": {
      "text/plain": [
       "6-element Array{Any,1}:\n",
       " Dict{String,Any}(Pair{String,Any}(\"optional_arguments\", Tuple{Symbol,Any}[(:arg1, 1), (:arg2, 4.0), (:arg3, 10), (:arg4, 100)]),Pair{String,Any}(\"arguments\", Any[10, 20]),Pair{String,Any}(\"result\", 4030.0)) \n",
       " Dict{String,Any}(Pair{String,Any}(\"optional_arguments\", Tuple{Symbol,Any}[(:arg1, 2), (:arg2, 4.0), (:arg3, 10), (:arg4, 100)]),Pair{String,Any}(\"arguments\", Any[10, 20]),Pair{String,Any}(\"result\", 8030.0)) \n",
       " Dict{String,Any}(Pair{String,Any}(\"optional_arguments\", Tuple{Symbol,Any}[(:arg1, 3), (:arg2, 4.0), (:arg3, 10), (:arg4, 100)]),Pair{String,Any}(\"arguments\", Any[10, 20]),Pair{String,Any}(\"result\", 12030.0))\n",
       " Dict{String,Any}(Pair{String,Any}(\"optional_arguments\", Tuple{Symbol,Any}[(:arg1, 1), (:arg2, 5.0), (:arg3, 10), (:arg4, 100)]),Pair{String,Any}(\"arguments\", Any[10, 20]),Pair{String,Any}(\"result\", 5030.0)) \n",
       " Dict{String,Any}(Pair{String,Any}(\"optional_arguments\", Tuple{Symbol,Any}[(:arg1, 2), (:arg2, 5.0), (:arg3, 10), (:arg4, 100)]),Pair{String,Any}(\"arguments\", Any[10, 20]),Pair{String,Any}(\"result\", 10030.0))\n",
       " Dict{String,Any}(Pair{String,Any}(\"optional_arguments\", Tuple{Symbol,Any}[(:arg1, 3), (:arg2, 5.0), (:arg3, 10), (:arg4, 100)]),Pair{String,Any}(\"arguments\", Any[10, 20]),Pair{String,Any}(\"result\", 15030.0))"
      ]
     },
     "execution_count": 12,
     "metadata": {},
     "output_type": "execute_result"
    }
   ],
   "source": [
    "# Function to be swept\n",
    "function fun(cons1, cons2; arg1=1.0, arg2=1.0, arg3=1.0, arg4=1.0)\n",
    "    return arg1*arg2*arg3*arg4 + cons1 + cons2\n",
    "end\n",
    "\n",
    "# Arguments to sweep (Symbol, values): Sweeps only two arguments\n",
    "arg_sweep1 = ArgSweep{Int64}(:arg1, [1, 2, 3])\n",
    "arg_sweep2 = ArgSweep{Float64}(:arg2, [4.0, 5.0])\n",
    "\n",
    "arg_sweeps = [arg_sweep1, arg_sweep2]\n",
    "\n",
    "# Constant required arguments [cons1, cons2]\n",
    "cons_args = [10, 20]\n",
    "\n",
    "# Constant optional arguments [(Symbol, val)]\n",
    "cons_optargs = [(:arg3, 10), (:arg4, 100)]\n",
    "\n",
    "# Defines the sweep\n",
    "sweep = Sweep(fun, arg_sweeps, cons_args, cons_optargs)\n",
    "\n",
    "# Runs the sweep\n",
    "res = runsweep(sweep)"
   ]
  },
  {
   "cell_type": "code",
   "execution_count": 13,
   "metadata": {},
   "outputs": [
    {
     "name": "stdout",
     "output_type": "stream",
     "text": [
      "f(10, 20; arg1=1, arg2=4.0, arg3=10, arg4=100) = 4030.0\n",
      "f(10, 20; arg1=2, arg2=4.0, arg3=10, arg4=100) = 8030.0\n",
      "f(10, 20; arg1=3, arg2=4.0, arg3=10, arg4=100) = 12030.0\n",
      "f(10, 20; arg1=1, arg2=5.0, arg3=10, arg4=100) = 5030.0\n",
      "f(10, 20; arg1=2, arg2=5.0, arg3=10, arg4=100) = 10030.0\n",
      "f(10, 20; arg1=3, arg2=5.0, arg3=10, arg4=100) = 15030.0\n",
      "\n"
     ]
    }
   ],
   "source": [
    "printsweep(res);"
   ]
  },
  {
   "cell_type": "markdown",
   "metadata": {},
   "source": [
    "## Argument Types"
   ]
  },
  {
   "cell_type": "code",
   "execution_count": 14,
   "metadata": {},
   "outputs": [
    {
     "name": "stdout",
     "output_type": "stream",
     "text": [
      "f(shot; person=John, relation=friend, direction=[1, 1, 0], num=3)\n",
      "\t = My friend John shot 3 times in the direction [1, 1, 0]\n",
      "\n",
      "f(shot; person=James, relation=friend, direction=[1, 1, 0], num=3)\n",
      "\t = My friend James shot 3 times in the direction [1, 1, 0]\n",
      "\n",
      "f(shot; person=John, relation=enemy, direction=[1, 1, 0], num=3)\n",
      "\t = My enemy John shot 3 times in the direction [1, 1, 0]\n",
      "\n",
      "f(shot; person=James, relation=enemy, direction=[1, 1, 0], num=3)\n",
      "\t = My enemy James shot 3 times in the direction [1, 1, 0]\n",
      "\n",
      "f(shot; person=John, relation=friend, direction=[0, 0, 1], num=3)\n",
      "\t = My friend John shot 3 times in the direction [0, 0, 1]\n",
      "\n",
      "f(shot; person=James, relation=friend, direction=[0, 0, 1], num=3)\n",
      "\t = My friend James shot 3 times in the direction [0, 0, 1]\n",
      "\n",
      "f(shot; person=John, relation=enemy, direction=[0, 0, 1], num=3)\n",
      "\t = My enemy John shot 3 times in the direction [0, 0, 1]\n",
      "\n",
      "f(shot; person=James, relation=enemy, direction=[0, 0, 1], num=3)\n",
      "\t = My enemy James shot 3 times in the direction [0, 0, 1]\n",
      "\n",
      "\n"
     ]
    }
   ],
   "source": [
    "# Function to be swept\n",
    "function fun(verb::String ; person::String=\"John\", relation::String=\"friend\", \n",
    "                num::Int64=1, direction::Array{T,1}=[1, 0, 0]) where {T<:Real}\n",
    "    return \"My $relation $person $verb $num times in the direction $direction\\n\"\n",
    "end\n",
    "\n",
    "# Arguments to sweep (Symbol, values)\n",
    "arg_sweep1 = ArgSweep{String}(:person, [\"John\", \"James\"])\n",
    "arg_sweep2 = ArgSweep{String}(:relation, [\"friend\", \"enemy\"])\n",
    "arg_sweep3 = ArgSweep{Array}(:direction, [[1, 1, 0], [0, 0, 1]])\n",
    "\n",
    "arg_sweeps = [arg_sweep1, arg_sweep2, arg_sweep3]\n",
    "\n",
    "# Constant required arguments [cons1, cons2]\n",
    "cons_args = [\"shot\"]\n",
    "\n",
    "# Constant optional arguments [(Symbol, val)]\n",
    "cons_optargs = [(:num, 3)]\n",
    "\n",
    "# Defines the sweep\n",
    "sweep = Sweep(fun, arg_sweeps, cons_args, cons_optargs)\n",
    "\n",
    "# Runs the sweep\n",
    "res = runsweep(sweep)\n",
    "\n",
    "# Prints the sweep\n",
    "printsweep(res; newln=true);"
   ]
  },
  {
   "cell_type": "markdown",
   "metadata": {},
   "source": [
    "## Arbitrary Number of Arguments"
   ]
  },
  {
   "cell_type": "code",
   "execution_count": 15,
   "metadata": {},
   "outputs": [
    {
     "name": "stdout",
     "output_type": "stream",
     "text": [
      "f(10, 20; arg1=1, arg2=4.0, arg3=10, arg4=100) = 4030.0\n",
      "f(10, 20; arg1=2, arg2=4.0, arg3=10, arg4=100) = 8030.0\n",
      "f(10, 20; arg1=3, arg2=4.0, arg3=10, arg4=100) = 12030.0\n",
      "f(10, 20; arg1=1, arg2=5.0, arg3=10, arg4=100) = 5030.0\n",
      "f(10, 20; arg1=2, arg2=5.0, arg3=10, arg4=100) = 10030.0\n",
      "f(10, 20; arg1=3, arg2=5.0, arg3=10, arg4=100) = 15030.0\n",
      "\n"
     ]
    }
   ],
   "source": [
    "function fun(args...; optargs...)\n",
    "   out = 0\n",
    "   for arg in args\n",
    "       out += arg\n",
    "   end\n",
    "   for (sym, optarg) in optargs\n",
    "       out *= optarg\n",
    "   end\n",
    "   return out\n",
    "end\n",
    "\n",
    "# Arguments to sweep (Symbol, values): Sweeps only two arguments\n",
    "arg_sweep1 = ArgSweep{Int64}(:arg1, [1, 2, 3])\n",
    "arg_sweep2 = ArgSweep{Float64}(:arg2, [4.0, 5.0])\n",
    "\n",
    "arg_sweeps = [arg_sweep1, arg_sweep2]\n",
    "\n",
    "# Constant required arguments [cons1, cons2]\n",
    "cons_args = [10, 20]\n",
    "\n",
    "# Constant optional arguments [(Symbol, val)]\n",
    "cons_optargs = [(:arg3, 10), (:arg4, 100)]\n",
    "\n",
    "# Defines the sweep\n",
    "sweep = Sweep(fun, arg_sweeps, cons_args, cons_optargs)\n",
    "\n",
    "# Runs the sweep\n",
    "res = runsweep(sweep)\n",
    "\n",
    "# Prints the sweep\n",
    "printsweep(res);"
   ]
  }
 ],
 "metadata": {
  "kernelspec": {
   "display_name": "Julia 0.6.4",
   "language": "julia",
   "name": "julia-0.6"
  },
  "language_info": {
   "file_extension": ".jl",
   "mimetype": "application/julia",
   "name": "julia",
   "version": "0.6.4"
  }
 },
 "nbformat": 4,
 "nbformat_minor": 2
}
